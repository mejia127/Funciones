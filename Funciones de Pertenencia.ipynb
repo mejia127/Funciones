{
 "cells": [
  {
   "cell_type": "markdown",
   "metadata": {},
   "source": [
    "FUNCIONES DE PERTENENCIA"
   ]
  },
  {
   "cell_type": "markdown",
   "metadata": {},
   "source": [
    "MARCELA MURILLO MEJIA"
   ]
  },
  {
   "cell_type": "markdown",
   "metadata": {},
   "source": [
    "Funcion Triangular $$f(x) = \n",
    "\\begin{cases} \n",
    "0 & \\mbox{si } x<a \\\\ (x-a) &\\mbox{si } a<=x<b\\\\ (c-x) & \\mbox{si } b<=x<=c\\\\ 0 & \\mbox{si } x>=c \n",
    "\\end{cases} \n",
    "$$"
   ]
  },
  {
   "cell_type": "code",
   "execution_count": 6,
   "metadata": {
    "collapsed": true
   },
   "outputs": [],
   "source": [
    "%matplotlib inline\n",
    "import numpy as np\n",
    "import matplotlib.pyplot as plt"
   ]
  },
  {
   "cell_type": "code",
   "execution_count": 296,
   "metadata": {
    "collapsed": true
   },
   "outputs": [],
   "source": [
    "x=np.linspace(0,100)\n",
    "a=5\n",
    "b=50\n",
    "c=95"
   ]
  },
  {
   "cell_type": "code",
   "execution_count": 300,
   "metadata": {
    "collapsed": true
   },
   "outputs": [],
   "source": [
    "def f(x,a,b,c):\n",
    "    if ((x<a) | (x>=c)):\n",
    "        ans=1\n",
    "    if ((a<=x) & (x<b)):\n",
    "         ans=(x-a)\n",
    "    if ((b<=x) & (x<=c)):\n",
    "        ans=(c-x)\n",
    "    return ans"
   ]
  },
  {
   "cell_type": "code",
   "execution_count": 301,
   "metadata": {
    "collapsed": false
   },
   "outputs": [],
   "source": [
    "f_vec = np.vectorize(f)\n",
    "func=f_vec(x,a,b,c)"
   ]
  },
  {
   "cell_type": "code",
   "execution_count": 303,
   "metadata": {
    "collapsed": false
   },
   "outputs": [
    {
     "data": {
      "text/plain": [
       "<matplotlib.text.Text at 0x13b85940>"
      ]
     },
     "execution_count": 303,
     "metadata": {},
     "output_type": "execute_result"
    },
    {
     "data": {
      "image/png": "[encoded data removed]",
      "text/plain": [
       "<matplotlib.figure.Figure at 0x13af6358>"
      ]
     },
     "metadata": {},
     "output_type": "display_data"
    }
   ],
   "source": [
    "plt.plot(x,f_vec(x,a,b,c),'>:b')\n",
    "plt.grid(True)\n",
    "plt.xlabel (\"Valor x\")\n",
    "plt.ylabel (\"Valor y\")\n",
    "plt.title(\"Funcion Triangular\")"
   ]
  },
  {
   "cell_type": "markdown",
   "metadata": {},
   "source": [
    "Funcion Trapezoidal $$f(x) = \n",
    "\\begin{cases} \n",
    "0 & \\mbox{si } x<=a \\\\ \\frac {(x-a)}{(b-a)} &\\mbox{si } a<=x<=b\\\\ 1 & \\mbox{si } b<=x<=c\\\\ \\frac{(d-x)}{(d-c)} & \\mbox{si } c<=x<=d\\\\ 0 & \\mbox{si } x>d\n",
    "\\end{cases} \n",
    "$$"
   ]
  },
  {
   "cell_type": "code",
   "execution_count": 661,
   "metadata": {
    "collapsed": true
   },
   "outputs": [],
   "source": [
    "%matplotlib inline\n",
    "import numpy as np\n",
    "import matplotlib.pyplot as plt"
   ]
  },
  {
   "cell_type": "code",
   "execution_count": 662,
   "metadata": {
    "collapsed": true
   },
   "outputs": [],
   "source": [
    "x=np.linspace(0,70)\n",
    "a=30\n",
    "b=20\n",
    "c=50\n",
    "d=20"
   ]
  },
  {
   "cell_type": "code",
   "execution_count": 663,
   "metadata": {
    "collapsed": true
   },
   "outputs": [],
   "source": [
    "def f(x,a,b,c,d):\n",
    "    if ((x<=a) | (x>d)):\n",
    "        ans=0.8\n",
    "    if ((a<=x) & (x<=b)):\n",
    "         ans=(x-a)/(b-a)\n",
    "    if ((b<=x) & (x<=c)):\n",
    "        ans=1\n",
    "    if ((c<=x) & (x<=d)):\n",
    "         ans=(d-x)/(d-c)\n",
    "    return ans"
   ]
  },
  {
   "cell_type": "code",
   "execution_count": 664,
   "metadata": {
    "collapsed": true
   },
   "outputs": [],
   "source": [
    "f_vec = np.vectorize(f)\n",
    "func=f_vec(x,a,b,c,d)"
   ]
  },
  {
   "cell_type": "code",
   "execution_count": 667,
   "metadata": {
    "collapsed": false
   },
   "outputs": [
    {
     "data": {
      "text/plain": [
       "<matplotlib.text.Text at 0x23f7cba8>"
      ]
     },
     "execution_count": 667,
     "metadata": {},
     "output_type": "execute_result"
    },
    {
     "data": {
      "image/png": "[encoded data removed]",
      "text/plain": [
       "<matplotlib.figure.Figure at 0x23eb8a58>"
      ]
     },
     "metadata": {},
     "output_type": "display_data"
    }
   ],
   "source": [
    "plt.plot(x,f_vec(x,a,b,c,d),'r')\n",
    "plt.grid(True)\n",
    "plt.xlabel (\"Valor x\")\n",
    "plt.ylabel (\"Valor y\")\n",
    "plt.title(\"Funcion Trapezoidal\")"
   ]
  },
  {
   "cell_type": "markdown",
   "metadata": {},
   "source": [
    "Funcion Tipo Hombro Derecha $$f(x) = \n",
    "\\begin{cases} \n",
    "0 & \\mbox{si } x<=\\alpha  \\\\ \\frac{(x-\\beta)}{(\\alpha-\\beta)} & \\mbox{si } \\\\ 1 & \\mbox{si } x>=\\beta\n",
    "\\end{cases} \n",
    "$$"
   ]
  },
  {
   "cell_type": "code",
   "execution_count": 677,
   "metadata": {
    "collapsed": true
   },
   "outputs": [],
   "source": [
    "%matplotlib inline\n",
    "import numpy as np\n",
    "import matplotlib.pyplot as plt"
   ]
  },
  {
   "cell_type": "code",
   "execution_count": 678,
   "metadata": {
    "collapsed": true
   },
   "outputs": [],
   "source": [
    "x=np.linspace(0,50)\n",
    "alfa=5\n",
    "beta=25"
   ]
  },
  {
   "cell_type": "code",
   "execution_count": 679,
   "metadata": {
    "collapsed": true
   },
   "outputs": [],
   "source": [
    "def f(x,alfa,beta):\n",
    "    if (x<=alfa):\n",
    "        \n",
    "        m=0\n",
    "   \n",
    "    if (alfa<=x)&(x<=beta):\n",
    "        m=(x-beta)/(alfa-beta)\n",
    "    \n",
    "    if (x>=beta):\n",
    "        m=1\n",
    "   \n",
    "    return m"
   ]
  },
  {
   "cell_type": "code",
   "execution_count": 680,
   "metadata": {
    "collapsed": false
   },
   "outputs": [],
   "source": [
    "f_vec = np.vectorize(f)\n",
    "func=f_vec(x,alfa,beta)"
   ]
  },
  {
   "cell_type": "code",
   "execution_count": 681,
   "metadata": {
    "collapsed": false
   },
   "outputs": [
    {
     "data": {
      "text/plain": [
       "<matplotlib.text.Text at 0x243f5828>"
      ]
     },
     "execution_count": 681,
     "metadata": {},
     "output_type": "execute_result"
    },
    {
     "data": {
      "image/png": "[encoded data removed]",
      "text/plain": [
       "<matplotlib.figure.Figure at 0x24223f98>"
      ]
     },
     "metadata": {},
     "output_type": "display_data"
    }
   ],
   "source": [
    "plt.plot(x,f_vec(x,alfa,beta),'m:o')\n",
    "plt.grid(True)\n",
    "plt.xlabel (\"Valor x\")\n",
    "plt.ylabel (\"Valor y\")\n",
    "plt.title(\"Funcion Hombro Derecho\")"
   ]
  },
  {
   "cell_type": "markdown",
   "metadata": {},
   "source": [
    "Funcion Hombro Izquierda $$f(x) = \n",
    "\\begin{cases} \n",
    "1 & \\mbox{si } x<=\\alpha  \\\\ \\frac{(x-\\alpha)}{(\\beta-\\alpha)} & \\mbox{si } \\\\ 0 & \\mbox{si } x>=\\beta\n",
    "\\end{cases} \n",
    "$$"
   ]
  },
  {
   "cell_type": "code",
   "execution_count": 682,
   "metadata": {
    "collapsed": true
   },
   "outputs": [],
   "source": [
    "%matplotlib inline\n",
    "import numpy as np\n",
    "import matplotlib.pyplot as plt"
   ]
  },
  {
   "cell_type": "code",
   "execution_count": 683,
   "metadata": {
    "collapsed": true
   },
   "outputs": [],
   "source": [
    "x=np.linspace(0,50)\n",
    "alfa=25\n",
    "beta=60"
   ]
  },
  {
   "cell_type": "code",
   "execution_count": 684,
   "metadata": {
    "collapsed": true
   },
   "outputs": [],
   "source": [
    "def f(x,alfa,beta):\n",
    "    if (x<=alfa):\n",
    "        \n",
    "        p=1\n",
    "   \n",
    "    if (alfa<=x)&(x<=beta):\n",
    "        p=(x-alfa)/(beta-alfa)\n",
    "    \n",
    "    if (x>=beta):\n",
    "        p=0\n",
    "   \n",
    "    return p"
   ]
  },
  {
   "cell_type": "code",
   "execution_count": 685,
   "metadata": {
    "collapsed": true
   },
   "outputs": [],
   "source": [
    "f_vec = np.vectorize(f)\n",
    "func=f_vec(x,alfa,beta)"
   ]
  },
  {
   "cell_type": "code",
   "execution_count": 686,
   "metadata": {
    "collapsed": false
   },
   "outputs": [
    {
     "data": {
      "text/plain": [
       "<matplotlib.text.Text at 0x2463c9b0>"
      ]
     },
     "execution_count": 686,
     "metadata": {},
     "output_type": "execute_result"
    },
    {
     "data": {
      "image/png": "[encoded data removed]",
      "text/plain": [
       "<matplotlib.figure.Figure at 0x243d4358>"
      ]
     },
     "metadata": {},
     "output_type": "display_data"
    }
   ],
   "source": [
    "plt.plot(x,f_vec(x,alfa,beta),'m:o')\n",
    "plt.grid(True)\n",
    "plt.xlabel (\"Valor x\")\n",
    "plt.ylabel (\"Valor y\")\n",
    "plt.title(\"Funcion Hombro Izquierdo\")"
   ]
  },
  {
   "cell_type": "markdown",
   "metadata": {},
   "source": [
    "Funcion Tipo Saturacion $$f(x) = \n",
    "\\begin{cases} \n",
    "0 & \\mbox{si } x<a \\\\ \\frac {(x-a)}{(b-a)} &\\mbox{si } a<=x<=b\\\\ 1 & \\mbox{si } b<=x<=d\\\\ \\frac{(x-d)}{(c-d)} & \\mbox{si } d<=x<c\\\\ 0 & \\mbox{si } x>=c\n",
    "\\end{cases} \n",
    "$$"
   ]
  },
  {
   "cell_type": "code",
   "execution_count": 692,
   "metadata": {
    "collapsed": true
   },
   "outputs": [],
   "source": [
    "%matplotlib inline\n",
    "import numpy as np\n",
    "import matplotlib.pyplot as plt"
   ]
  },
  {
   "cell_type": "code",
   "execution_count": 722,
   "metadata": {
    "collapsed": true
   },
   "outputs": [],
   "source": [
    "x=np.linspace(0,100)\n",
    "a=5\n",
    "b=30\n",
    "c=0\n",
    "d=70"
   ]
  },
  {
   "cell_type": "code",
   "execution_count": 723,
   "metadata": {
    "collapsed": true
   },
   "outputs": [],
   "source": [
    "def f(x,a,b,c,d):\n",
    "    \n",
    "    if (x<a)|(x>=c):\n",
    "        m=0\n",
    "   \n",
    "    if (a<=x)&(x<=b):\n",
    "        m=(x-a)/(b-a)\n",
    "    \n",
    "    if (b<=x)&(x<=d):\n",
    "        m=1\n",
    "    \n",
    "    if (d<=x)&(x<c):\n",
    "        m=(x-d)/(c-d)\n",
    "    return m"
   ]
  },
  {
   "cell_type": "code",
   "execution_count": 724,
   "metadata": {
    "collapsed": true
   },
   "outputs": [],
   "source": [
    "f_vec = np.vectorize(f)\n",
    "func=f_vec(x,a,b,c,d)"
   ]
  },
  {
   "cell_type": "code",
   "execution_count": 725,
   "metadata": {
    "collapsed": false
   },
   "outputs": [
    {
     "data": {
      "text/plain": [
       "<matplotlib.text.Text at 0x25e07e10>"
      ]
     },
     "execution_count": 725,
     "metadata": {},
     "output_type": "execute_result"
    },
    {
     "data": {
      "image/png": "[encoded data removed]",
      "text/plain": [
       "<matplotlib.figure.Figure at 0x25bd2e10>"
      ]
     },
     "metadata": {},
     "output_type": "display_data"
    }
   ],
   "source": [
    "plt.plot(x,f_vec(x,a,b,c,d),'g:o')\n",
    "plt.grid(True)\n",
    "plt.xlabel (\"Valor x\")\n",
    "plt.ylabel (\"Valor y\")\n",
    "plt.title(\"Funcion Saturacion\")"
   ]
  },
  {
   "cell_type": "markdown",
   "metadata": {},
   "source": [
    "Funcion Sigmoidal"
   ]
  },
  {
   "cell_type": "code",
   "execution_count": 811,
   "metadata": {
    "collapsed": true
   },
   "outputs": [],
   "source": [
    "%matplotlib inline\n",
    "import numpy as np\n",
    "import matplotlib.pyplot as plt"
   ]
  },
  {
   "cell_type": "code",
   "execution_count": 812,
   "metadata": {
    "collapsed": false
   },
   "outputs": [],
   "source": [
    "x = np.arange(-5.0, 5.0, 0.5)"
   ]
  },
  {
   "cell_type": "code",
   "execution_count": 813,
   "metadata": {
    "collapsed": true
   },
   "outputs": [],
   "source": [
    "def sigmoid(x):\n",
    "    a = []\n",
    "    for item in x:\n",
    "        a.append(1/(1+math.exp(-item)))\n",
    "    return a"
   ]
  },
  {
   "cell_type": "code",
   "execution_count": 814,
   "metadata": {
    "collapsed": false
   },
   "outputs": [],
   "source": [
    "sig = sigmoid(x)"
   ]
  },
  {
   "cell_type": "code",
   "execution_count": 815,
   "metadata": {
    "collapsed": false
   },
   "outputs": [
    {
     "data": {
      "text/plain": [
       "<matplotlib.text.Text at 0x2856a518>"
      ]
     },
     "execution_count": 815,
     "metadata": {},
     "output_type": "execute_result"
    },
    {
     "data": {
      "image/png": "[encoded data removed]",
      "text/plain": [
       "<matplotlib.figure.Figure at 0x28390668>"
      ]
     },
     "metadata": {},
     "output_type": "display_data"
    }
   ],
   "source": [
    "plt.plot(x, sigmoid(x), 'm:*')\n",
    "plt.grid(True)\n",
    "plt.xlabel('Valores de X')\n",
    "plt.ylabel('Valores de Y')\n",
    "plt.title('Funcion Sigmoidal')"
   ]
  },
  {
   "cell_type": "markdown",
   "metadata": {},
   "source": [
    "Funcion S o Sigmoidal $$f(x) = \n",
    "\\begin{cases} \n",
    "0 & \\mbox{si } x<a \\\\ 2\\frac {(x-a)}{(c-a)} &\\mbox{si } a<=x<b\\\\  1-2\\left ( \\frac{(x-c)}{(c-a)}\\right )^{2} & \\mbox{si } b<=x<=c\\\\ 1 & \\mbox{si } x>c\n",
    "\\end{cases} \n",
    "$$"
   ]
  },
  {
   "cell_type": "code",
   "execution_count": 816,
   "metadata": {
    "collapsed": true
   },
   "outputs": [],
   "source": [
    "%matplotlib inline\n",
    "import numpy as np\n",
    "import matplotlib.pyplot as plt"
   ]
  },
  {
   "cell_type": "code",
   "execution_count": 817,
   "metadata": {
    "collapsed": true
   },
   "outputs": [],
   "source": [
    "x=np.linspace(0,60)\n",
    "a=10\n",
    "c=30"
   ]
  },
  {
   "cell_type": "code",
   "execution_count": 818,
   "metadata": {
    "collapsed": false
   },
   "outputs": [],
   "source": [
    "def f(x,a,c):\n",
    "    \n",
    "    if (x<=a):\n",
    "        p=0\n",
    "        \n",
    "    if (a<=x)&(x<=((a+c)/2)):\n",
    "        p=2*(((x-a)/(c-a))**2)\n",
    "        \n",
    "    if (((a+c)/2)<=x)&(x<=c):\n",
    "        p=1-2*(((x-a)/(c-a))**2)\n",
    "        \n",
    "    if (x>=c):\n",
    "        p= 1\n",
    "        \n",
    "    return p"
   ]
  },
  {
   "cell_type": "code",
   "execution_count": 819,
   "metadata": {
    "collapsed": false
   },
   "outputs": [],
   "source": [
    "f_vec = np.vectorize(f)\n",
    "func=f_vec(x,a,b)"
   ]
  },
  {
   "cell_type": "code",
   "execution_count": 823,
   "metadata": {
    "collapsed": false
   },
   "outputs": [
    {
     "data": {
      "text/plain": [
       "<matplotlib.text.Text at 0x28d190f0>"
      ]
     },
     "execution_count": 823,
     "metadata": {},
     "output_type": "execute_result"
    },
    {
     "data": {
      "image/png": "[encoded data removed]",
      "text/plain": [
       "<matplotlib.figure.Figure at 0x289c64e0>"
      ]
     },
     "metadata": {},
     "output_type": "display_data"
    }
   ],
   "source": [
    "plt.plot(x,f_vec(x,a,c), 'b:o')\n",
    "plt.grid(True)\n",
    "plt.xlabel('Valores de X')\n",
    "plt.ylabel('Valores de Y')\n",
    "plt.title('Funcion S')"
   ]
  },
  {
   "cell_type": "code",
   "execution_count": null,
   "metadata": {
    "collapsed": true
   },
   "outputs": [],
   "source": []
  }
 ],
 "metadata": {
  "kernelspec": {
   "display_name": "Python [Root]",
   "language": "python",
   "name": "Python [Root]"
  },
  "language_info": {
   "codemirror_mode": {
    "name": "ipython",
    "version": 2
   },
   "file_extension": ".py",
   "mimetype": "text/x-python",
   "name": "python",
   "nbconvert_exporter": "python",
   "pygments_lexer": "ipython2",
   "version": "2.7.12"
  }
 },
 "nbformat": 4,
 "nbformat_minor": 0
}
